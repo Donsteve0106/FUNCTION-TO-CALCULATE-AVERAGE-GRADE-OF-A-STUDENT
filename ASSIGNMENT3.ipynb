{
 "cells": [
  {
   "cell_type": "code",
   "execution_count": 13,
   "id": "f3cdfc15",
   "metadata": {},
   "outputs": [
    {
     "name": "stdout",
     "output_type": "stream",
     "text": [
      "Grade: D\n"
     ]
    }
   ],
   "source": [
    "#CALCULATING THE AVERAGE GRADE OF A STUDENT\n",
    "\n",
    "def calculate_average_grade(score1, score2, score3):\n",
    "    total = score1 + score2 + score3\n",
    "    average = total / 3\n",
    "    if average >= 90 and average <= 100:\n",
    "        grade = \"A\"\n",
    "    elif average >= 80 and average <= 89:\n",
    "        grade = \"B\"\n",
    "    elif average >= 70 and average <= 79:\n",
    "        grade = \"C\"\n",
    "    elif average >= 60 and average <= 69:\n",
    "        grade = \"D\"\n",
    "    else:\n",
    "        grade = \"F\"\n",
    "    return grade\n",
    "\n",
    "result1, = calculate_average_grade(62, 57, 72)\n",
    "\n",
    "print(\"Grade:\", result1)"
   ]
  },
  {
   "cell_type": "code",
   "execution_count": 14,
   "id": "de661d5b",
   "metadata": {},
   "outputs": [
    {
     "name": "stdout",
     "output_type": "stream",
     "text": [
      "0\n",
      "1\n",
      "1\n",
      "2\n",
      "3\n",
      "5\n",
      "8\n",
      "13\n",
      "21\n"
     ]
    }
   ],
   "source": [
    "#CALCULATING THE FIBONACCI SEQUENCE\n",
    "\n",
    "\n",
    "def fibonacci_sequence(n):\n",
    "    if n == 1:\n",
    "        return 0\n",
    "\n",
    "    if n == 2:\n",
    "        return 1\n",
    "\n",
    "\n",
    "\n",
    "    return fibonacci_sequence(n-1)+fibonacci_sequence(n-2)\n",
    "\n",
    "\n",
    "\n",
    "for i in range(1,10):\n",
    "    print(fibonacci_sequence(i))\n",
    "\n",
    "\n",
    "\n"
   ]
  },
  {
   "cell_type": "markdown",
   "id": "f2b6f683",
   "metadata": {},
   "source": []
  },
  {
   "cell_type": "code",
   "execution_count": null,
   "id": "8c0f718c",
   "metadata": {},
   "outputs": [],
   "source": []
  }
 ],
 "metadata": {
  "kernelspec": {
   "display_name": "Python 3 (ipykernel)",
   "language": "python",
   "name": "python3"
  },
  "language_info": {
   "codemirror_mode": {
    "name": "ipython",
    "version": 3
   },
   "file_extension": ".py",
   "mimetype": "text/x-python",
   "name": "python",
   "nbconvert_exporter": "python",
   "pygments_lexer": "ipython3",
   "version": "3.11.5"
  }
 },
 "nbformat": 4,
 "nbformat_minor": 5
}
